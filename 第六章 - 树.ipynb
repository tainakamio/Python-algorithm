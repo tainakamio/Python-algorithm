{
 "cells": [
  {
   "cell_type": "markdown",
   "metadata": {},
   "source": [
    "# 树"
   ]
  },
  {
   "cell_type": "markdown",
   "metadata": {},
   "source": [
    "## 1.以“列表之列表”方式创建树：将二叉树及其方法都写为函数"
   ]
  },
  {
   "cell_type": "markdown",
   "metadata": {},
   "source": [
    "创建一个（二叉）树，根节点值自定义，左右叶子节点为空。"
   ]
  },
  {
   "cell_type": "code",
   "execution_count": null,
   "metadata": {},
   "outputs": [],
   "source": [
    "def binarytree(r):\n",
    "    return [r,[],[]]"
   ]
  },
  {
   "cell_type": "markdown",
   "metadata": {},
   "source": [
    "访问函数和设置根节点函数：getRootval, getLeftchild, getRightchild, setRootval"
   ]
  },
  {
   "cell_type": "code",
   "execution_count": null,
   "metadata": {},
   "outputs": [],
   "source": [
    "def getRootval(root):\n",
    "    return root[0]\n",
    "\n",
    "def getLeftchild(root):\n",
    "    return root[1]\n",
    "\n",
    "def getRightchild(root):\n",
    "    return root[2]\n",
    "\n",
    "def setRootval(root,obj):\n",
    "    root[0] = obj"
   ]
  },
  {
   "cell_type": "markdown",
   "metadata": {},
   "source": [
    "插入左右子节点函数：insertLeft，insertRight"
   ]
  },
  {
   "cell_type": "code",
   "execution_count": null,
   "metadata": {},
   "outputs": [],
   "source": [
    "#和教材上稍有不同\n",
    "\n",
    "def insertLeft(root,a):\n",
    "    leftchild = binarytree(a)\n",
    "    if len(root[1])>0:\n",
    "        leftchild[1] = root.pop(1)\n",
    "        root.insert(1,leftchild)\n",
    "    else:\n",
    "        root[1] = leftchild\n",
    "    return root\n",
    "\n",
    "def insertRight(root,a):\n",
    "    rightchild = binarytree(a)\n",
    "    if len(root[2])>0:\n",
    "        rightchild[2] = root.pop(2)\n",
    "        root.insert(2,rightchild)\n",
    "    else:\n",
    "        root[2] = rightchild\n",
    "    return root\n"
   ]
  },
  {
   "cell_type": "code",
   "execution_count": null,
   "metadata": {},
   "outputs": [],
   "source": [
    "t=binarytree(3)\n",
    "\n",
    "t"
   ]
  },
  {
   "cell_type": "code",
   "execution_count": null,
   "metadata": {},
   "outputs": [],
   "source": [
    "setRootval(t,5)\n",
    "\n",
    "t"
   ]
  },
  {
   "cell_type": "code",
   "execution_count": null,
   "metadata": {},
   "outputs": [],
   "source": [
    "insertLeft(t,2)"
   ]
  },
  {
   "cell_type": "markdown",
   "metadata": {},
   "source": [
    "## 2.以“节点与引用”方式构建二叉树类"
   ]
  },
  {
   "cell_type": "markdown",
   "metadata": {},
   "source": [
    "新建二叉树，属性key，leftchild，rightchild分别为根值、左右叶子节点值（默认为空）\n",
    "\n",
    "定义访问方法：getRootval, getLeftchild, getRightchild, setRootval\n",
    "\n",
    "定义插入叶子节点的方法：insertLeftchild，insertRightchild"
   ]
  },
  {
   "cell_type": "code",
   "execution_count": 14,
   "metadata": {},
   "outputs": [],
   "source": [
    "class binarytree:\n",
    "\n",
    "    def __init__(self,obj):\n",
    "        self.key = obj\n",
    "        self.leftchild = None\n",
    "        self.rightchild = None\n",
    "    \n",
    "    def getRootval(self):\n",
    "        return self.key\n",
    "    \n",
    "    def getLeftchild(self):\n",
    "        return self.leftchild\n",
    "    \n",
    "    def getRightchild(self):\n",
    "        return self.rightchild\n",
    "    \n",
    "    def setRootval(self,val):\n",
    "        self.key = val\n",
    "    \n",
    "    #与书上相比，插入左右子节点的代码稍微作了简化\n",
    "\n",
    "    def insertLeft(self,newNode):\n",
    "        t = binarytree(newNode)\n",
    "        if self.leftchild != None:\n",
    "            t.leftchild = self.leftchild        \n",
    "        self.leftchild = t\n",
    "        \n",
    "    def insertRight(self,newNode):\n",
    "        t = binarytree(newNode)\n",
    "        if self.rightchild != None:\n",
    "            t.rightchild = self.rightchild\n",
    "        self.rightchild = t\n"
   ]
  },
  {
   "cell_type": "code",
   "execution_count": null,
   "metadata": {},
   "outputs": [],
   "source": [
    "atree = binarytree(3)\n",
    "btree = atree\n",
    "\n",
    "btree.insertLeft(5)\n",
    "\n",
    "atree.getLeftchild().getRootval()"
   ]
  },
  {
   "cell_type": "code",
   "execution_count": null,
   "metadata": {},
   "outputs": [],
   "source": [
    "tree = binarytree(5)\n",
    "tree.getRootval()"
   ]
  },
  {
   "cell_type": "markdown",
   "metadata": {},
   "source": []
  },
  {
   "cell_type": "code",
   "execution_count": null,
   "metadata": {},
   "outputs": [],
   "source": [
    "tree.insertLeft(2)\n",
    "print(tree.getLeftchild())"
   ]
  },
  {
   "cell_type": "code",
   "execution_count": null,
   "metadata": {},
   "outputs": [],
   "source": [
    "tree.getLeftchild().getRightchild()#.getRootval()"
   ]
  },
  {
   "cell_type": "code",
   "execution_count": null,
   "metadata": {},
   "outputs": [],
   "source": [
    "print(tree.getRightchild())"
   ]
  },
  {
   "cell_type": "markdown",
   "metadata": {},
   "source": [
    "新建一棵空树（根节点为None）也是可以的"
   ]
  },
  {
   "cell_type": "code",
   "execution_count": null,
   "metadata": {},
   "outputs": [],
   "source": [
    "a = binarytree(None)\n",
    "\n",
    "print(a.getRootval())"
   ]
  },
  {
   "cell_type": "markdown",
   "metadata": {},
   "source": [
    "## 解析树：用二叉树计算完全括号表达式"
   ]
  },
  {
   "cell_type": "markdown",
   "metadata": {},
   "source": [
    "从Python中导入栈和二叉树类"
   ]
  },
  {
   "cell_type": "code",
   "execution_count": 1,
   "metadata": {},
   "outputs": [],
   "source": [
    "from pythonds import Stack\n",
    "from pythonds import BinaryTree"
   ]
  },
  {
   "cell_type": "code",
   "execution_count": null,
   "metadata": {},
   "outputs": [],
   "source": [
    "#新建空树必须声明根节点为None\n",
    "\n",
    "b = BinaryTree(None)\n",
    "print(b.getRootVal())"
   ]
  },
  {
   "cell_type": "markdown",
   "metadata": {},
   "source": [
    "预备知识1————将对象A赋值给对象B，然后操作对象B，则对象A也会和B同步变化"
   ]
  },
  {
   "cell_type": "code",
   "execution_count": null,
   "metadata": {},
   "outputs": [],
   "source": [
    "aTree = BinaryTree(3)\n",
    "bTree = aTree\n",
    "\n",
    "bTree.insertLeft(5)\n",
    "\n",
    "aTree.getLeftChild().getRootVal()"
   ]
  },
  {
   "cell_type": "markdown",
   "metadata": {},
   "source": [
    "预备知识2————对象被压入栈中以后，栈中的对象和当前被操作的对象同步变化"
   ]
  },
  {
   "cell_type": "code",
   "execution_count": null,
   "metadata": {},
   "outputs": [],
   "source": [
    "cTree = BinaryTree(4)\n",
    "stk = Stack()\n",
    "stk.push(cTree)\n",
    "#将c树压入栈后，再去操作c树\n",
    "cTree.insertLeft(6)\n",
    "#将栈中的c树取出来，查看左节点是否被设置\n",
    "dTree = stk.pop()\n",
    "dTree.getLeftChild().getRootVal()"
   ]
  },
  {
   "cell_type": "markdown",
   "metadata": {},
   "source": [
    "预备知识3————赋值行为不存在等式传递性"
   ]
  },
  {
   "cell_type": "code",
   "execution_count": null,
   "metadata": {},
   "outputs": [],
   "source": [
    "tStack = Stack()\n",
    "eTree = BinaryTree(3)\n",
    "tStack.push(eTree)\n",
    "#将e树赋给f树，于是接下来对f树的操作引起e树同步变化\n",
    "fTree = eTree\n",
    "fTree.insertLeft(4)\n",
    "tStack.push(fTree)\n",
    "#将f的左子树赋给f树，于是接下来对f树的操作引起f树的左子树同步变化；f树的左子树变化意味着f树发生了变化，f树的这种变化会同步到e树\n",
    "fTree = fTree.getLeftChild()\n",
    "#注意这里不存在等式传递性，上面这句命令不会把f的左子树赋给e树"
   ]
  },
  {
   "cell_type": "code",
   "execution_count": null,
   "metadata": {},
   "outputs": [],
   "source": [
    "gTree = tStack.pop()\n",
    "gTree.getLeftChild().getRootVal()\n"
   ]
  },
  {
   "cell_type": "code",
   "execution_count": null,
   "metadata": {},
   "outputs": [],
   "source": [
    "iTree = tStack.pop()\n",
    "iTree.getRootVal()"
   ]
  },
  {
   "cell_type": "code",
   "execution_count": null,
   "metadata": {},
   "outputs": [],
   "source": [
    "iTree.getLeftChild().getRootVal()"
   ]
  },
  {
   "cell_type": "markdown",
   "metadata": {},
   "source": [
    "构建函数buildParseTree，读取完全括号表达式（fpexp），生成解析树"
   ]
  },
  {
   "cell_type": "code",
   "execution_count": 59,
   "metadata": {},
   "outputs": [],
   "source": [
    "\n",
    "\n",
    "def buildParseTree(fpexp):\n",
    "    #fplist = fpexp.split()  #这里没有按书上那样把fpexp拆为表格。split了以后好像反而不行？？\n",
    "    parseTree = BinaryTree('')\n",
    "    treeStack = Stack()\n",
    "    #treeStack.push(parseTree) \n",
    "    #这里对书上稍作修改：如果读入')'时什么也不做（即执行pass命令），那么也就没必要事先把parseTree压入栈中\n",
    "    currentTree = parseTree #由预备知识1，currentTree的变化会传递到parseTree中\n",
    "\n",
    "    for i in fpexp:\n",
    "\n",
    "        if i=='(':\n",
    "            currentTree.insertLeft('')\n",
    "            treeStack.push(currentTree) #由预备知识2，栈中对象同步变化，因此无需担心取出来后却发现功亏一篑\n",
    "            currentTree = currentTree.getLeftChild() #由预备知识3，这句话不会让parseTree也成为currentTree的左子树\n",
    "        elif i not in '+-*/)':\n",
    "            currentTree.setRootVal(eval(i))\n",
    "            currentTree = treeStack.pop()\n",
    "        elif i in '+-*/':\n",
    "            currentTree.setRootVal(i)\n",
    "            currentTree.insertRight('')\n",
    "            treeStack.push(currentTree)\n",
    "            currentTree = currentTree.getRightChild()\n",
    "        elif i==')':\n",
    "            pass\n",
    "            #currentTree = treeStack.pop()\n",
    "        else:\n",
    "            raise ValueError('Unknown opreator:' +i)\n",
    "    \n",
    "    return parseTree #这里返回parseTree还是currenTree都是一样的\n",
    "\n",
    "    "
   ]
  },
  {
   "cell_type": "code",
   "execution_count": 60,
   "metadata": {},
   "outputs": [],
   "source": [
    "pt = buildParseTree('(4*(2+3))')\n",
    "\n",
    "#注意：完全括号表达式最外层一定有括号，故这里不能写成'4*(2+3)'"
   ]
  },
  {
   "cell_type": "code",
   "execution_count": 46,
   "metadata": {},
   "outputs": [
    {
     "data": {
      "text/plain": [
       "4"
      ]
     },
     "execution_count": 46,
     "metadata": {},
     "output_type": "execute_result"
    }
   ],
   "source": [
    "pt.getLeftChild().getRootVal()"
   ]
  },
  {
   "cell_type": "code",
   "execution_count": 65,
   "metadata": {},
   "outputs": [],
   "source": [
    "def preorder(tree):\n",
    "    if tree:\n",
    "        print(tree.getRootVal())\n",
    "        preorder(tree.getLeftChild())\n",
    "        preorder(tree.getRightChild())"
   ]
  },
  {
   "cell_type": "code",
   "execution_count": 66,
   "metadata": {},
   "outputs": [
    {
     "name": "stdout",
     "output_type": "stream",
     "text": [
      "*\n",
      "4\n",
      "+\n",
      "2\n",
      "3\n"
     ]
    }
   ],
   "source": [
    "preorder(pt)"
   ]
  },
  {
   "cell_type": "markdown",
   "metadata": {},
   "source": [
    "构建函数evaluate（parseTree），计算解析树"
   ]
  },
  {
   "cell_type": "code",
   "execution_count": 62,
   "metadata": {},
   "outputs": [],
   "source": [
    "import operator"
   ]
  },
  {
   "cell_type": "code",
   "execution_count": 63,
   "metadata": {},
   "outputs": [],
   "source": [
    "def evaluate(parseTree):\n",
    "\n",
    "    opers = {'+':operator.add,'-':operator.sub,'*':operator.mul,'/':operator.truediv}\n",
    "\n",
    "    if parseTree.getLeftChild() and parseTree.getRightChild():\n",
    "        return opers[parseTree.getRootVal()](evaluate(parseTree.getLeftChild()),evaluate(parseTree.getRightChild()))\n",
    "    else:\n",
    "        return parseTree.getRootVal()"
   ]
  },
  {
   "cell_type": "code",
   "execution_count": 64,
   "metadata": {},
   "outputs": [
    {
     "data": {
      "text/plain": [
       "20"
      ]
     },
     "execution_count": 64,
     "metadata": {},
     "output_type": "execute_result"
    }
   ],
   "source": [
    "evaluate(pt)"
   ]
  },
  {
   "cell_type": "code",
   "execution_count": null,
   "metadata": {},
   "outputs": [],
   "source": []
  }
 ],
 "metadata": {
  "interpreter": {
   "hash": "38740d3277777e2cd7c6c2cc9d8addf5118fdf3f82b1b39231fd12aeac8aee8b"
  },
  "kernelspec": {
   "display_name": "Python 3.10.1 64-bit",
   "language": "python",
   "name": "python3"
  },
  "language_info": {
   "codemirror_mode": {
    "name": "ipython",
    "version": 3
   },
   "file_extension": ".py",
   "mimetype": "text/x-python",
   "name": "python",
   "nbconvert_exporter": "python",
   "pygments_lexer": "ipython3",
   "version": "3.10.1"
  },
  "orig_nbformat": 4
 },
 "nbformat": 4,
 "nbformat_minor": 2
}
