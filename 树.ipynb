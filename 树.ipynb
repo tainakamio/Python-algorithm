{
 "cells": [
  {
   "cell_type": "markdown",
   "metadata": {},
   "source": [
    "# 1.二叉树的实现"
   ]
  },
  {
   "cell_type": "markdown",
   "metadata": {},
   "source": [
    "## 1.1 “列表之列表”方式"
   ]
  },
  {
   "cell_type": "markdown",
   "metadata": {},
   "source": [
    "创建根节点"
   ]
  },
  {
   "cell_type": "code",
   "execution_count": 4,
   "metadata": {},
   "outputs": [],
   "source": [
    "def binarytree(r):\n",
    "    return [r,[],[]]"
   ]
  },
  {
   "cell_type": "markdown",
   "metadata": {},
   "source": [
    "插入左子树、右子树"
   ]
  },
  {
   "cell_type": "code",
   "execution_count": 7,
   "metadata": {},
   "outputs": [],
   "source": [
    "def istlft(root,newbranch):\n",
    "    t=root.pop(1)\n",
    "    if len(t)>1:\n",
    "        root.insert(1,[newbranch,t,[]])\n",
    "    else:\n",
    "        root.isnert(1,[newbranch,[],[]])\n",
    "    return root\n",
    "\n",
    "def istrt(root,newbranch):\n",
    "    t=root.pop(2)\n",
    "    if len(t)>1:\n",
    "        root.insert(2,[newbranch,[],t])\n",
    "    else:\n",
    "        root.insert(2,[newbranch,[],[]])\n",
    "    return root"
   ]
  },
  {
   "cell_type": "markdown",
   "metadata": {},
   "source": [
    "树的访问函数"
   ]
  },
  {
   "cell_type": "code",
   "execution_count": 8,
   "metadata": {},
   "outputs": [],
   "source": [
    "def getRootval(root):\n",
    "    return root[0]\n",
    "\n",
    "def setRootval(root,val):\n",
    "    root[0]=val\n",
    "\n",
    "def getLeftchild(root):\n",
    "    return root[1]\n",
    "\n",
    "def getRightchild(root):\n",
    "    return root[2]"
   ]
  },
  {
   "cell_type": "markdown",
   "metadata": {},
   "source": [
    "## 1.2 “节点与引用”方式"
   ]
  },
  {
   "cell_type": "markdown",
   "metadata": {},
   "source": [
    "创建bnrytree类"
   ]
  },
  {
   "cell_type": "code",
   "execution_count": 11,
   "metadata": {},
   "outputs": [],
   "source": [
    "class bnrytree:\n",
    "    \n",
    "    def __init__(self,obj):\n",
    "        self.key=obj\n",
    "        self.lc=None\n",
    "        self.rc=None\n",
    "#lc，rc分别为左右子节点的简写\n",
    "#很显然，obj是根节点的内容\n",
    "\n",
    "#插入左右子节点\n",
    "    def istlft(self,new):\n",
    "        if self.lc==None:\n",
    "            self.lc=bnrytree(new)\n",
    "        else:\n",
    "            t=bnrytree(new)\n",
    "            t.lc=self.lc\n",
    "            self.lc=t\n",
    "        \n",
    "    def istrt(self,new):\n",
    "        if self.rc==None:\n",
    "            self.rc=bnrytree(new)\n",
    "        else:\n",
    "            t=bnrytree(new)\n",
    "            t.rc=self.rc\n",
    "            self.rc=t\n",
    "    \n",
    "    #访问根节点\n",
    "    def getroot(self):\n",
    "        return self.key\n",
    "    #设置根节点\n",
    "    def setroot(self,new):\n",
    "        self.key=new\n",
    "    \n",
    "    #访问左右子节点\n",
    "    def getlc(self):\n",
    "        return self.lc\n",
    "    def getrc(self):\n",
    "        return self.rc"
   ]
  },
  {
   "cell_type": "markdown",
   "metadata": {},
   "source": [
    "## 1.3 从现成的模块中导入"
   ]
  },
  {
   "cell_type": "code",
   "execution_count": 12,
   "metadata": {},
   "outputs": [],
   "source": [
    "from pythonds.trees import BinaryTree"
   ]
  },
  {
   "cell_type": "code",
   "execution_count": 13,
   "metadata": {},
   "outputs": [],
   "source": [
    "r=BinaryTree('a')"
   ]
  },
  {
   "cell_type": "code",
   "execution_count": 15,
   "metadata": {},
   "outputs": [
    {
     "data": {
      "text/plain": [
       "'a'"
      ]
     },
     "execution_count": 15,
     "metadata": {},
     "output_type": "execute_result"
    }
   ],
   "source": [
    "r.getRootVal()"
   ]
  },
  {
   "cell_type": "code",
   "execution_count": 16,
   "metadata": {},
   "outputs": [],
   "source": [
    "r.insertLeft('b')"
   ]
  },
  {
   "cell_type": "code",
   "execution_count": 19,
   "metadata": {},
   "outputs": [
    {
     "data": {
      "text/plain": [
       "'b'"
      ]
     },
     "execution_count": 19,
     "metadata": {},
     "output_type": "execute_result"
    }
   ],
   "source": [
    "r.getLeftChild().getRootVal()"
   ]
  },
  {
   "cell_type": "code",
   "execution_count": 23,
   "metadata": {},
   "outputs": [
    {
     "name": "stdout",
     "output_type": "stream",
     "text": [
      "None\n"
     ]
    }
   ],
   "source": [
    "print(r.getRightChild())"
   ]
  },
  {
   "cell_type": "code",
   "execution_count": null,
   "metadata": {},
   "outputs": [],
   "source": []
  }
 ],
 "metadata": {
  "kernelspec": {
   "display_name": "Python 3",
   "language": "python",
   "name": "python3"
  },
  "language_info": {
   "codemirror_mode": {
    "name": "ipython",
    "version": 3
   },
   "file_extension": ".py",
   "mimetype": "text/x-python",
   "name": "python",
   "nbconvert_exporter": "python",
   "pygments_lexer": "ipython3",
   "version": "3.7.6"
  }
 },
 "nbformat": 4,
 "nbformat_minor": 4
}
