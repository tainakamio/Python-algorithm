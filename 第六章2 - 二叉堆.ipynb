{
 "cells": [
  {
   "cell_type": "markdown",
   "metadata": {},
   "source": [
    "# 二叉堆（Binary Heap）"
   ]
  },
  {
   "cell_type": "markdown",
   "metadata": {},
   "source": [
    "## 新建二叉堆buildHeap，并实现insert，delMin方法"
   ]
  },
  {
   "cell_type": "markdown",
   "metadata": {},
   "source": [
    "初始化：二叉堆具有heaplist，currensize两个属性。"
   ]
  },
  {
   "cell_type": "code",
   "execution_count": 37,
   "metadata": {},
   "outputs": [],
   "source": [
    "class binheap:\n",
    "\n",
    "#初始化：二叉堆具有heaplist，currensize两个属性。\n",
    "    \n",
    "    def __init__(self):\n",
    "        self.heaplist=[0]\n",
    "        self.currentsize=0\n",
    "\n",
    "#借助上浮操作（percUp方法），实现insert\n",
    "\n",
    "    def percUp(self,i):\n",
    "\n",
    "        while i//2 >0:\n",
    "            if self.heaplist[i] < self.heaplist[i//2]:\n",
    "                self.heaplist[i],self.heaplist[i//2] = self.heaplist[i//2],self.heaplist[i]\n",
    "            i = i//2\n",
    "\n",
    "    \n",
    "    def insert(self,a):\n",
    "        self.heaplist.append(a)\n",
    "        self.currentsize +=1\n",
    "        self.percUp(self.currentsize)\n",
    "\n",
    "#借助下沉操作（percDown方法），返回最小子节点方法（minChild），实现delMin方法\n",
    "     \n",
    "    def percDown(self,i):\n",
    "\n",
    "        while i*2 <= self.currentsize: #不能写成i*2+1，否则可能无法下沉最后一个元素\n",
    "            mc = self.minChild(i)\n",
    "            if self.heaplist[i] > self.heaplist[mc]:\n",
    "                self.heaplist[i],self.heaplist[mc] = self.heaplist[mc],self.heaplist[i]\n",
    "            i = mc\n",
    "    \n",
    "    def minChild(self,i):\n",
    "\n",
    "        if i*2+1 <= self.currentsize:\n",
    "            if self.heaplist[i*2] < self.heaplist[i*2+1]:\n",
    "                return i*2\n",
    "            else:\n",
    "                return i*2+1\n",
    "        else:\n",
    "            return i*2\n",
    "    \n",
    "    def delMin(self):\n",
    "        retval = self.heaplist[1]\n",
    "        self.heaplist[1]=self.heaplist[self.currentsize]\n",
    "        self.heaplist.pop()\n",
    "        self.currentsize -=1\n",
    "        self.percDown(1)\n",
    "        return retval\n",
    "\n",
    "#实现buildHeap方法，根据列表构建二叉堆：从列表中点开始，向列表头部移动，将路上的节点逐个下沉。\n",
    "     \n",
    "    def buildHeap(self,alist):\n",
    "        self.heaplist = [0]+alist#[:] #有没有[:]都可以\n",
    "        self.currentsize = len(alist)\n",
    "        i = self.currentsize//2\n",
    "        while i>0:\n",
    "            self.percDown(i)\n",
    "            i = i-1\n"
   ]
  },
  {
   "cell_type": "code",
   "execution_count": 41,
   "metadata": {},
   "outputs": [
    {
     "data": {
      "text/plain": [
       "[0, -1, 0.1, 2, 6, 2.090909090909091, 5, 7]"
      ]
     },
     "execution_count": 41,
     "metadata": {},
     "output_type": "execute_result"
    }
   ],
   "source": [
    "bh = binheap()\n",
    "l=[7, 6, 5, 0.1, 23/11, -1, 2]\n",
    "\n",
    "bh.buildHeap(l)\n",
    "\n",
    "#查看二叉堆的内容\n",
    "bh.heaplist\n",
    "\n",
    "#这样写也行\n",
    "#bh.heaplist[:]\n",
    "\n",
    "#写成这样会报错 list obje is not callcble\n",
    "#bh.heaplist()\n"
   ]
  },
  {
   "cell_type": "markdown",
   "metadata": {},
   "source": [
    "对照标准库中的BinHeap数据结构"
   ]
  },
  {
   "cell_type": "code",
   "execution_count": 42,
   "metadata": {},
   "outputs": [],
   "source": [
    "from pythonds import BinHeap"
   ]
  },
  {
   "cell_type": "code",
   "execution_count": 43,
   "metadata": {},
   "outputs": [
    {
     "name": "stdout",
     "output_type": "stream",
     "text": [
      "8 3\n",
      "[0, 7, 6, 5, 0.1, 2.090909090909091, -1, 2] 3\n",
      "[0, 7, 6, -1, 0.1, 2.090909090909091, 5, 2] 2\n",
      "[0, 7, 0.1, -1, 6, 2.090909090909091, 5, 2] 1\n",
      "[0, -1, 0.1, 2, 6, 2.090909090909091, 5, 7] 0\n"
     ]
    },
    {
     "data": {
      "text/plain": [
       "[0, -1, 0.1, 2, 6, 2.090909090909091, 5, 7]"
      ]
     },
     "execution_count": 43,
     "metadata": {},
     "output_type": "execute_result"
    }
   ],
   "source": [
    "h = BinHeap()\n",
    "h.buildHeap(l)\n",
    "\n",
    "h.heapList"
   ]
  },
  {
   "cell_type": "code",
   "execution_count": 44,
   "metadata": {},
   "outputs": [
    {
     "data": {
      "text/plain": [
       "-1"
      ]
     },
     "execution_count": 44,
     "metadata": {},
     "output_type": "execute_result"
    }
   ],
   "source": [
    "h.delMin()"
   ]
  },
  {
   "cell_type": "code",
   "execution_count": 46,
   "metadata": {},
   "outputs": [
    {
     "data": {
      "text/plain": [
       "[0, 0.1, 2.090909090909091, 2, 6, 7, 5]"
      ]
     },
     "execution_count": 46,
     "metadata": {},
     "output_type": "execute_result"
    }
   ],
   "source": [
    "h.heapList"
   ]
  }
 ],
 "metadata": {
  "interpreter": {
   "hash": "38740d3277777e2cd7c6c2cc9d8addf5118fdf3f82b1b39231fd12aeac8aee8b"
  },
  "kernelspec": {
   "display_name": "Python 3.10.1 64-bit",
   "language": "python",
   "name": "python3"
  },
  "language_info": {
   "codemirror_mode": {
    "name": "ipython",
    "version": 3
   },
   "file_extension": ".py",
   "mimetype": "text/x-python",
   "name": "python",
   "nbconvert_exporter": "python",
   "pygments_lexer": "ipython3",
   "version": "3.10.1"
  },
  "orig_nbformat": 4
 },
 "nbformat": 4,
 "nbformat_minor": 2
}
