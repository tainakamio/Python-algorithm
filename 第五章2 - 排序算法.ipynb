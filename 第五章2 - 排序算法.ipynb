{
 "cells": [
  {
   "cell_type": "code",
   "execution_count": 10,
   "metadata": {},
   "outputs": [],
   "source": [
    "from random import randint"
   ]
  },
  {
   "cell_type": "markdown",
   "metadata": {},
   "source": [
    "# 1.准备工作"
   ]
  },
  {
   "cell_type": "markdown",
   "metadata": {},
   "source": [
    "## 1.1生成随机数列"
   ]
  },
  {
   "cell_type": "code",
   "execution_count": 11,
   "metadata": {},
   "outputs": [],
   "source": [
    "def genRandomArray(n,min,max):\n",
    "    arr=[0]*n\n",
    "    for i in range(n):\n",
    "        arr[i]=randint(min,max)\n",
    "    return arr"
   ]
  },
  {
   "cell_type": "code",
   "execution_count": 6,
   "metadata": {},
   "outputs": [
    {
     "data": {
      "text/plain": [
       "[75, 79, 7, 37, 97, 61]"
      ]
     },
     "execution_count": 6,
     "metadata": {},
     "output_type": "execute_result"
    }
   ],
   "source": [
    "genRandomArray(6,1,100)"
   ]
  },
  {
   "cell_type": "markdown",
   "metadata": {},
   "source": [
    "## 1.2 生成基本有序的数列"
   ]
  },
  {
   "cell_type": "code",
   "execution_count": 12,
   "metadata": {},
   "outputs": [],
   "source": [
    "\n",
    "\n",
    "def genNearlyOrderedArray(n,swaptimes):\n",
    "    arr=[0]*n\n",
    "    for i in range(n):\n",
    "        arr[i]=i\n",
    "    for b in range(swaptimes):\n",
    "        pos1=randint(0,n-1)\n",
    "        pos2=randint(0,n-1)\n",
    "        arr[pos1],arr[pos2]=arr[pos2],arr[pos1]\n",
    "    return arr\n",
    "    "
   ]
  },
  {
   "cell_type": "code",
   "execution_count": 8,
   "metadata": {},
   "outputs": [
    {
     "data": {
      "text/plain": [
       "[0, 4, 1, 3, 7, 5, 6, 2, 8, 9]"
      ]
     },
     "execution_count": 8,
     "metadata": {},
     "output_type": "execute_result"
    }
   ],
   "source": [
    "genNearlyOrderedArray(10,3)"
   ]
  },
  {
   "cell_type": "markdown",
   "metadata": {},
   "source": [
    "## 1.3 判断列表是否有序"
   ]
  },
  {
   "cell_type": "code",
   "execution_count": 13,
   "metadata": {},
   "outputs": [],
   "source": [
    "#默认按升序排列\n",
    "\n",
    "def isSorted(arr):\n",
    "    sorted=True\n",
    "    for i in range(len(arr)-1):\n",
    "        if arr[i]>arr[i+1]:\n",
    "            sorted=False\n",
    "            break\n",
    "    return sorted"
   ]
  },
  {
   "cell_type": "code",
   "execution_count": 11,
   "metadata": {},
   "outputs": [
    {
     "data": {
      "text/plain": [
       "False"
      ]
     },
     "execution_count": 11,
     "metadata": {},
     "output_type": "execute_result"
    }
   ],
   "source": [
    "isSorted([1,2,3,5,4])"
   ]
  },
  {
   "cell_type": "markdown",
   "metadata": {},
   "source": [
    "## 1.4 测试算法的耗时"
   ]
  },
  {
   "cell_type": "code",
   "execution_count": null,
   "metadata": {},
   "outputs": [],
   "source": []
  },
  {
   "cell_type": "code",
   "execution_count": null,
   "metadata": {},
   "outputs": [],
   "source": []
  },
  {
   "cell_type": "markdown",
   "metadata": {},
   "source": [
    "# 2.冒泡排序"
   ]
  },
  {
   "cell_type": "code",
   "execution_count": 18,
   "metadata": {},
   "outputs": [],
   "source": [
    "def bubblesort(arr):\n",
    "    n=len(arr)\n",
    "    for i in range(n-1,0,-1):\n",
    "        for j in range(i):\n",
    "            if arr[j]>arr[j+1]:\n",
    "                arr[j],arr[j+1]=arr[j+1],arr[j]\n",
    "    return arr"
   ]
  },
  {
   "cell_type": "code",
   "execution_count": 19,
   "metadata": {},
   "outputs": [
    {
     "data": {
      "text/plain": [
       "[1, 2, 3, 4, 5, 6]"
      ]
     },
     "execution_count": 19,
     "metadata": {},
     "output_type": "execute_result"
    }
   ],
   "source": [
    "bubblesort([1,2,3,5,6,4])"
   ]
  },
  {
   "cell_type": "markdown",
   "metadata": {},
   "source": [
    "优化：当其中一轮遍历没有发生交换时，则停止排序"
   ]
  },
  {
   "cell_type": "code",
   "execution_count": 22,
   "metadata": {},
   "outputs": [],
   "source": [
    "def bubblesort2(arr):\n",
    "    n=len(arr)\n",
    "    for i in range(n-1,0,-1):\n",
    "        stop=True\n",
    "        for j in range(i):\n",
    "            if arr[j]>arr[j+1]:\n",
    "                arr[j],arr[j+1]=arr[j+1],arr[j]\n",
    "                stop=False #但凡发生一次交换，stop切换到False，且只有等到下一轮更新i才切换为True\n",
    "        if stop:\n",
    "            break\n",
    "    return arr"
   ]
  },
  {
   "cell_type": "code",
   "execution_count": 23,
   "metadata": {},
   "outputs": [
    {
     "data": {
      "text/plain": [
       "[1, 2, 3, 4, 5, 6, 7, 8]"
      ]
     },
     "execution_count": 23,
     "metadata": {},
     "output_type": "execute_result"
    }
   ],
   "source": [
    "bubblesort2([1,2,3,4,6,5,8,7])"
   ]
  },
  {
   "cell_type": "markdown",
   "metadata": {},
   "source": [
    "# 3.选择排序"
   ]
  },
  {
   "cell_type": "code",
   "execution_count": 43,
   "metadata": {},
   "outputs": [],
   "source": [
    "def slctsort(arr):\n",
    "    n=len(arr)\n",
    "    for i in range(1,n):\n",
    "        for j in range(i,n):\n",
    "            if arr[j]<arr[i-1]:\n",
    "                arr[i-1],arr[j]=arr[j],arr[i-1]\n",
    "    return arr"
   ]
  },
  {
   "cell_type": "code",
   "execution_count": 44,
   "metadata": {},
   "outputs": [
    {
     "data": {
      "text/plain": [
       "[1, 2, 3, 4, 5, 6, 7, 8, 30]"
      ]
     },
     "execution_count": 44,
     "metadata": {},
     "output_type": "execute_result"
    }
   ],
   "source": [
    "slctsort([1,2,3,4,30,6,5,8,7])"
   ]
  },
  {
   "cell_type": "code",
   "execution_count": 48,
   "metadata": {},
   "outputs": [
    {
     "data": {
      "text/plain": [
       "True"
      ]
     },
     "execution_count": 48,
     "metadata": {},
     "output_type": "execute_result"
    }
   ],
   "source": [
    "arr=genRandomArray(10,1,100)\n",
    "isSorted(slctsort(arr))"
   ]
  },
  {
   "cell_type": "markdown",
   "metadata": {},
   "source": [
    "# 4.插入排序"
   ]
  },
  {
   "cell_type": "code",
   "execution_count": 55,
   "metadata": {},
   "outputs": [],
   "source": [
    "def insertsort(arr):\n",
    "    n=len(arr)\n",
    "    for index in range(1,n):\n",
    "        cur=arr[index]\n",
    "        pos=index\n",
    "        while pos>0 and arr[pos-1]>cur:\n",
    "            arr[pos]=arr[pos-1]\n",
    "            pos-=1\n",
    "        arr[pos]=cur\n",
    "    return arr"
   ]
  },
  {
   "cell_type": "code",
   "execution_count": 56,
   "metadata": {},
   "outputs": [
    {
     "data": {
      "text/plain": [
       "[1, 2, 3, 4, 5, 6, 7, 8]"
      ]
     },
     "execution_count": 56,
     "metadata": {},
     "output_type": "execute_result"
    }
   ],
   "source": [
    "insertsort([1,2,3,4,6,5,8,7])"
   ]
  },
  {
   "cell_type": "code",
   "execution_count": 61,
   "metadata": {},
   "outputs": [
    {
     "data": {
      "text/plain": [
       "True"
      ]
     },
     "execution_count": 61,
     "metadata": {},
     "output_type": "execute_result"
    }
   ],
   "source": [
    "arr=genRandomArray(10,1,100)\n",
    "isSorted(insertsort(arr))"
   ]
  },
  {
   "cell_type": "markdown",
   "metadata": {},
   "source": [
    "# 5.Shell排序"
   ]
  },
  {
   "cell_type": "markdown",
   "metadata": {},
   "source": [
    "首先，写一个带间隔的插入排序函数"
   ]
  },
  {
   "cell_type": "code",
   "execution_count": 5,
   "metadata": {},
   "outputs": [],
   "source": [
    "def gapInsertsort(arr,start,gap):\n",
    "    n=len(arr)\n",
    "    for i in range(start+gap,n,gap):\n",
    "        cur=arr[i]\n",
    "        pos=i\n",
    "        while pos>0 and arr[pos-gap]>cur:\n",
    "            arr[pos]=arr[pos-gap]\n",
    "            pos-=gap\n",
    "        arr[pos]=cur\n",
    "    return arr"
   ]
  },
  {
   "cell_type": "code",
   "execution_count": 7,
   "metadata": {},
   "outputs": [
    {
     "data": {
      "text/plain": [
       "[20, 1, 2, 3, 54, 4, 5, 6, 77]"
      ]
     },
     "execution_count": 7,
     "metadata": {},
     "output_type": "execute_result"
    }
   ],
   "source": [
    "gapInsertsort([54,1,2,3,77,4,5,6,20],0,4)"
   ]
  },
  {
   "cell_type": "markdown",
   "metadata": {},
   "source": [
    "下面正式写shell排序。这里将增量设为列表长度的一半，然后增量每次减半。"
   ]
  },
  {
   "cell_type": "code",
   "execution_count": 8,
   "metadata": {},
   "outputs": [],
   "source": [
    "def shellsort(arr):\n",
    "    sublistcount=len(arr)//2\n",
    "    while sublistcount>0:\n",
    "        for i in range(sublistcount):\n",
    "            gapInsertsort(arr,i,sublistcount)\n",
    "        sublistcount=sublistcount//2\n",
    "    return arr"
   ]
  },
  {
   "cell_type": "code",
   "execution_count": 9,
   "metadata": {},
   "outputs": [
    {
     "data": {
      "text/plain": [
       "[17, 20, 26, 31, 44, 54, 55, 77, 93]"
      ]
     },
     "execution_count": 9,
     "metadata": {},
     "output_type": "execute_result"
    }
   ],
   "source": [
    "shellsort([54,26,93,17,77,31,44,55,20])"
   ]
  },
  {
   "cell_type": "code",
   "execution_count": 20,
   "metadata": {
    "scrolled": true
   },
   "outputs": [
    {
     "data": {
      "text/plain": [
       "True"
      ]
     },
     "execution_count": 20,
     "metadata": {},
     "output_type": "execute_result"
    }
   ],
   "source": [
    "isSorted(shellsort(genRandomArray(10,1,100)))"
   ]
  },
  {
   "cell_type": "markdown",
   "metadata": {},
   "source": [
    "# 6.归并排序"
   ]
  },
  {
   "cell_type": "code",
   "execution_count": 21,
   "metadata": {},
   "outputs": [],
   "source": [
    "def mergesort(arr):\n",
    "    print('splitting ',arr)\n",
    "    if len(arr)>1:\n",
    "        mid=len(arr)//2\n",
    "        left=arr[:mid]\n",
    "        right=arr[mid:]\n",
    "        \n",
    "        mergesort(left)\n",
    "        mergesort(right)\n",
    "        \n",
    "        i=0\n",
    "        j=0\n",
    "        k=0\n",
    "        \n",
    "        while i<len(left) and j<len(right):\n",
    "            if left[i]<right[j]:\n",
    "                arr[k]=left[i]\n",
    "                i+=1\n",
    "            else:\n",
    "                arr[k]=right[j]\n",
    "                j+=1\n",
    "            k+=1\n",
    "            \n",
    "        while i<len(left):\n",
    "            arr[k]=left[i]\n",
    "            i+=1\n",
    "            k+=1\n",
    "        while j<len(right):\n",
    "            arr[k]=right[j]\n",
    "            j+=1\n",
    "            k+=1\n",
    "        \n",
    "        print('merging ',arr)\n",
    "    return arr\n",
    "            \n",
    "        "
   ]
  },
  {
   "cell_type": "code",
   "execution_count": 22,
   "metadata": {},
   "outputs": [
    {
     "name": "stdout",
     "output_type": "stream",
     "text": [
      "splitting  [54, 26, 93, 17, 77, 31, 44, 55, 20]\n",
      "splitting  [54, 26, 93, 17]\n",
      "splitting  [54, 26]\n",
      "splitting  [54]\n",
      "splitting  [26]\n",
      "merging  [26, 54]\n",
      "splitting  [93, 17]\n",
      "splitting  [93]\n",
      "splitting  [17]\n",
      "merging  [17, 93]\n",
      "merging  [17, 26, 54, 93]\n",
      "splitting  [77, 31, 44, 55, 20]\n",
      "splitting  [77, 31]\n",
      "splitting  [77]\n",
      "splitting  [31]\n",
      "merging  [31, 77]\n",
      "splitting  [44, 55, 20]\n",
      "splitting  [44]\n",
      "splitting  [55, 20]\n",
      "splitting  [55]\n",
      "splitting  [20]\n",
      "merging  [20, 55]\n",
      "merging  [20, 44, 55]\n",
      "merging  [20, 31, 44, 55, 77]\n",
      "merging  [17, 20, 26, 31, 44, 54, 55, 77, 93]\n"
     ]
    },
    {
     "data": {
      "text/plain": [
       "[17, 20, 26, 31, 44, 54, 55, 77, 93]"
      ]
     },
     "execution_count": 22,
     "metadata": {},
     "output_type": "execute_result"
    }
   ],
   "source": [
    "mergesort([54,26,93,17,77,31,44,55,20])"
   ]
  },
  {
   "cell_type": "markdown",
   "metadata": {},
   "source": [
    "书上代码11-31行的归并操作只适用于两个有序的子列表，若子列表无序，则归并结果也无序"
   ]
  },
  {
   "cell_type": "code",
   "execution_count": 3,
   "metadata": {},
   "outputs": [],
   "source": [
    "l=[4,5]\n",
    "r=[3,2]\n",
    "a=[None]*4\n",
    "\n",
    "i=0\n",
    "j=0\n",
    "k=0\n",
    "\n",
    "while i<2 and j<2:\n",
    "    if l[i]<r[j]:\n",
    "        a[k]=l[i]\n",
    "        i+=1\n",
    "    else:\n",
    "        a[k]=r[j]\n",
    "        j+=1\n",
    "    k+=1\n",
    "\n",
    "while i<2:\n",
    "    a[k]=l[i]\n",
    "    i+=1\n",
    "    k+=1\n",
    "while j<2:\n",
    "    a[k]=r[j]\n",
    "    j+=1\n",
    "    k+=1\n"
   ]
  },
  {
   "cell_type": "code",
   "execution_count": 4,
   "metadata": {},
   "outputs": [
    {
     "data": {
      "text/plain": [
       "[3, 2, 4, 5]"
      ]
     },
     "execution_count": 4,
     "metadata": {},
     "output_type": "execute_result"
    }
   ],
   "source": [
    "a"
   ]
  },
  {
   "cell_type": "markdown",
   "metadata": {},
   "source": [
    "# 7.快速排序"
   ]
  },
  {
   "cell_type": "markdown",
   "metadata": {},
   "source": [
    "首先准备一个函数——partition\n",
    "\n",
    "功能是以列表首个元素为基准点（pivot），分割列表。"
   ]
  },
  {
   "cell_type": "code",
   "execution_count": 11,
   "metadata": {},
   "outputs": [],
   "source": [
    "def partition(arr,fst,lst):\n",
    "    \n",
    "    pivot=arr[fst]\n",
    "    left=1+fst\n",
    "    right=lst\n",
    "    \n",
    "    done=False\n",
    "    \n",
    "    while not done:\n",
    "        \n",
    "        while left<=right and arr[left]<=pivot:\n",
    "            left+=1\n",
    "        while left<=right and arr[right]>=pivot:\n",
    "            right-=1\n",
    "    \n",
    "        if left>right:\n",
    "            done=True\n",
    "        else:\n",
    "            arr[left],arr[right]=arr[right],arr[left]\n",
    "    \n",
    "    arr[fst],arr[right]=arr[right],arr[fst]\n",
    "    \n",
    "    return right\n",
    "        "
   ]
  },
  {
   "cell_type": "code",
   "execution_count": 18,
   "metadata": {},
   "outputs": [],
   "source": [
    "def quicksort(arr,fst,lst):\n",
    "    \n",
    "    if fst<lst:\n",
    "        subpoint=partition(arr,fst,lst)\n",
    "    \n",
    "        quicksort(arr,fst,subpoint-1)\n",
    "        quicksort(arr,subpoint+1,lst)\n",
    "    return arr"
   ]
  },
  {
   "cell_type": "code",
   "execution_count": 21,
   "metadata": {},
   "outputs": [
    {
     "data": {
      "text/plain": [
       "[17, 20, 26, 31, 44, 54, 55, 77, 93]"
      ]
     },
     "execution_count": 21,
     "metadata": {},
     "output_type": "execute_result"
    }
   ],
   "source": [
    "quicksort([54,26,93,17,77,31,44,55,20],0,8)"
   ]
  },
  {
   "cell_type": "code",
   "execution_count": null,
   "metadata": {},
   "outputs": [],
   "source": []
  }
 ],
 "metadata": {
  "kernelspec": {
   "display_name": "Python 3",
   "language": "python",
   "name": "python3"
  },
  "language_info": {
   "codemirror_mode": {
    "name": "ipython",
    "version": 3
   },
   "file_extension": ".py",
   "mimetype": "text/x-python",
   "name": "python",
   "nbconvert_exporter": "python",
   "pygments_lexer": "ipython3",
   "version": "3.7.6"
  }
 },
 "nbformat": 4,
 "nbformat_minor": 4
}
