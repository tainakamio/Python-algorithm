{
 "cells": [
  {
   "cell_type": "markdown",
   "metadata": {},
   "source": [
    "一、清点法"
   ]
  },
  {
   "cell_type": "markdown",
   "metadata": {},
   "source": [
    "对代码清单2-6稍作修改，一开始就避免两词长度不同的情况。\n",
    "\n",
    "另外，后半段有几个步骤与书上不同，但是效果一样，也没有好坏之分，纯属自己写的时候思维习惯不同导致。"
   ]
  },
  {
   "cell_type": "code",
   "execution_count": 11,
   "metadata": {},
   "outputs": [],
   "source": [
    "def anagramSolution1(s1,s2):\n",
    "    \n",
    "    alist=list(s2)\n",
    "    stillok= len(s1)==len(s2)\n",
    "    pos1=0\n",
    "    \n",
    "    while pos1<len(s1) and stillok:\n",
    "        found=False\n",
    "        pos2=0\n",
    "        \n",
    "        while pos2<len(alist) and not found:\n",
    "            if s1[pos1]==alist[pos2]:\n",
    "                alist[pos2]=None\n",
    "                found=True\n",
    "            else:\n",
    "                pos2+=1\n",
    "        \n",
    "        if found:\n",
    "            pos1+=1\n",
    "        else:\n",
    "            stillok=False\n",
    "                    \n",
    "    return stillok     "
   ]
  },
  {
   "cell_type": "markdown",
   "metadata": {},
   "source": [
    "下面四句用来测验，正确的话结果应当是：T,F,F,F"
   ]
  },
  {
   "cell_type": "code",
   "execution_count": 12,
   "metadata": {},
   "outputs": [
    {
     "name": "stdout",
     "output_type": "stream",
     "text": [
      "True\n",
      "False\n",
      "False\n",
      "False\n"
     ]
    }
   ],
   "source": [
    "print(anagramSolution1('heart','earth'))\n",
    "print(anagramSolution1('heat','earth'))\n",
    "print(anagramSolution1('hearrt','earth'))\n",
    "print(anagramSolution1('hearrt','eearth'))"
   ]
  },
  {
   "cell_type": "markdown",
   "metadata": {},
   "source": [
    "下面是书上的代码清单2-6，在两词不同长度的情况下失效，比如无法判断heat和earth"
   ]
  },
  {
   "cell_type": "code",
   "execution_count": 13,
   "metadata": {},
   "outputs": [],
   "source": [
    "def anagramSolution1a(s1,s2):\n",
    "    \n",
    "    alist=list(s2)\n",
    "    stillok=True\n",
    "    pos1=0\n",
    "    \n",
    "    while pos1<len(s1) and stillok:\n",
    "        found=False\n",
    "        pos2=0\n",
    "        \n",
    "        while pos2<len(alist) and not found:\n",
    "            if s1[pos1]==alist[pos2]:\n",
    "                found=True\n",
    "            else:\n",
    "                pos2+=1\n",
    "        \n",
    "        if found:\n",
    "            alist[pos2]=None\n",
    "        else:\n",
    "            stillok=False\n",
    "            \n",
    "        pos1+=1\n",
    "                    \n",
    "    return stillok     "
   ]
  },
  {
   "cell_type": "code",
   "execution_count": 14,
   "metadata": {},
   "outputs": [
    {
     "name": "stdout",
     "output_type": "stream",
     "text": [
      "True\n",
      "True\n",
      "False\n",
      "False\n"
     ]
    }
   ],
   "source": [
    "print(anagramSolution1a('heart','earth'))\n",
    "print(anagramSolution1a('heat','earth'))\n",
    "print(anagramSolution1a('hearrt','earth'))\n",
    "print(anagramSolution1a('hearrt','eearth'))"
   ]
  },
  {
   "cell_type": "code",
   "execution_count": null,
   "metadata": {},
   "outputs": [],
   "source": []
  }
 ],
 "metadata": {
  "kernelspec": {
   "display_name": "Python 3",
   "language": "python",
   "name": "python3"
  },
  "language_info": {
   "codemirror_mode": {
    "name": "ipython",
    "version": 3
   },
   "file_extension": ".py",
   "mimetype": "text/x-python",
   "name": "python",
   "nbconvert_exporter": "python",
   "pygments_lexer": "ipython3",
   "version": "3.7.6"
  }
 },
 "nbformat": 4,
 "nbformat_minor": 4
}
