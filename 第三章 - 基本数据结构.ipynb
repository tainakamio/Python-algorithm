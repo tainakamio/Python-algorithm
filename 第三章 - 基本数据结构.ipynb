{
 "cells": [
  {
   "cell_type": "markdown",
   "metadata": {},
   "source": [
    "# 1.栈"
   ]
  },
  {
   "cell_type": "markdown",
   "metadata": {},
   "source": [
    "栈（stack）可以从现有的库中直接导入。\n",
    "\n",
    "from pythonds.basic import Stack 即可"
   ]
  },
  {
   "cell_type": "markdown",
   "metadata": {},
   "source": [
    "栈的方法有push，pop，peek，isEmpty，size等，见书59页。\n",
    "\n",
    "下面用list来实现一个栈。"
   ]
  },
  {
   "cell_type": "code",
   "execution_count": 4,
   "metadata": {},
   "outputs": [],
   "source": [
    "class Stack:\n",
    "    def __init__(self):\n",
    "        self.items=[]\n",
    "    \n",
    "    def isEmpty(self):\n",
    "        return self.items == []\n",
    "    \n",
    "    def push(self,item):\n",
    "        self.items.append(item)\n",
    "    \n",
    "    def peek(self):\n",
    "        return self.items[-1]\n",
    "    \n",
    "    def pop(self):\n",
    "        self.items.pop()\n",
    "        \n",
    "    def size(self):\n",
    "        return len(self.items)\n"
   ]
  },
  {
   "cell_type": "code",
   "execution_count": 5,
   "metadata": {},
   "outputs": [],
   "source": [
    "s = Stack()"
   ]
  },
  {
   "cell_type": "code",
   "execution_count": 6,
   "metadata": {},
   "outputs": [],
   "source": [
    "s.push('a')"
   ]
  },
  {
   "cell_type": "code",
   "execution_count": 7,
   "metadata": {},
   "outputs": [],
   "source": [
    "s.push('b')"
   ]
  },
  {
   "cell_type": "code",
   "execution_count": 8,
   "metadata": {},
   "outputs": [
    {
     "data": {
      "text/plain": [
       "'b'"
      ]
     },
     "execution_count": 8,
     "metadata": {},
     "output_type": "execute_result"
    }
   ],
   "source": [
    "s.peek()"
   ]
  },
  {
   "cell_type": "code",
   "execution_count": 9,
   "metadata": {},
   "outputs": [
    {
     "data": {
      "text/plain": [
       "2"
      ]
     },
     "execution_count": 9,
     "metadata": {},
     "output_type": "execute_result"
    }
   ],
   "source": [
    "s.size()"
   ]
  },
  {
   "cell_type": "code",
   "execution_count": 10,
   "metadata": {},
   "outputs": [
    {
     "data": {
      "text/plain": [
       "['a', 'b']"
      ]
     },
     "execution_count": 10,
     "metadata": {},
     "output_type": "execute_result"
    }
   ],
   "source": [
    "s.items #这个class的本体，是个list"
   ]
  },
  {
   "cell_type": "code",
   "execution_count": 12,
   "metadata": {},
   "outputs": [],
   "source": [
    "s.pop()"
   ]
  },
  {
   "cell_type": "code",
   "execution_count": 13,
   "metadata": {},
   "outputs": [
    {
     "ename": "IndexError",
     "evalue": "list index out of range",
     "output_type": "error",
     "traceback": [
      "\u001b[1;31m---------------------------------------------------------------------------\u001b[0m",
      "\u001b[1;31mIndexError\u001b[0m                                Traceback (most recent call last)",
      "\u001b[1;32m<ipython-input-13-f056e7e54f5d>\u001b[0m in \u001b[0;36m<module>\u001b[1;34m\u001b[0m\n\u001b[1;32m----> 1\u001b[1;33m \u001b[0ms\u001b[0m\u001b[1;33m.\u001b[0m\u001b[0mpeek\u001b[0m\u001b[1;33m(\u001b[0m\u001b[1;33m)\u001b[0m\u001b[1;33m\u001b[0m\u001b[1;33m\u001b[0m\u001b[0m\n\u001b[0m",
      "\u001b[1;32m<ipython-input-4-9f32ecab0d28>\u001b[0m in \u001b[0;36mpeek\u001b[1;34m(self)\u001b[0m\n\u001b[0;32m     10\u001b[0m \u001b[1;33m\u001b[0m\u001b[0m\n\u001b[0;32m     11\u001b[0m     \u001b[1;32mdef\u001b[0m \u001b[0mpeek\u001b[0m\u001b[1;33m(\u001b[0m\u001b[0mself\u001b[0m\u001b[1;33m)\u001b[0m\u001b[1;33m:\u001b[0m\u001b[1;33m\u001b[0m\u001b[1;33m\u001b[0m\u001b[0m\n\u001b[1;32m---> 12\u001b[1;33m         \u001b[1;32mreturn\u001b[0m \u001b[0mself\u001b[0m\u001b[1;33m.\u001b[0m\u001b[0mitems\u001b[0m\u001b[1;33m[\u001b[0m\u001b[1;33m-\u001b[0m\u001b[1;36m1\u001b[0m\u001b[1;33m]\u001b[0m\u001b[1;33m\u001b[0m\u001b[1;33m\u001b[0m\u001b[0m\n\u001b[0m\u001b[0;32m     13\u001b[0m \u001b[1;33m\u001b[0m\u001b[0m\n\u001b[0;32m     14\u001b[0m     \u001b[1;32mdef\u001b[0m \u001b[0mpop\u001b[0m\u001b[1;33m(\u001b[0m\u001b[0mself\u001b[0m\u001b[1;33m)\u001b[0m\u001b[1;33m:\u001b[0m\u001b[1;33m\u001b[0m\u001b[1;33m\u001b[0m\u001b[0m\n",
      "\u001b[1;31mIndexError\u001b[0m: list index out of range"
     ]
    }
   ],
   "source": [
    "s.peek()"
   ]
  },
  {
   "cell_type": "markdown",
   "metadata": {},
   "source": [
    "## 1.1括号匹配"
   ]
  },
  {
   "cell_type": "markdown",
   "metadata": {},
   "source": [
    "### 问题1\n",
    "\n",
    "一个字串symbolString，只含有左右圆括号\"(\"和\")\"，试运用栈，写一个函数parchecker，判断str的括号是否匹配。"
   ]
  },
  {
   "cell_type": "code",
   "execution_count": 2,
   "metadata": {},
   "outputs": [
    {
     "name": "stdout",
     "output_type": "stream",
     "text": [
      "Collecting pythonds\n",
      "  Downloading pythonds-1.2.1-py3-none-any.whl (14 kB)\n",
      "Installing collected packages: pythonds\n",
      "Successfully installed pythonds-1.2.1\n",
      "Note: you may need to restart the kernel to use updated packages.\n"
     ]
    }
   ],
   "source": [
    "#pip install pythonds, 刚开始时没有自带pythonds模块，需要手动安装"
   ]
  },
  {
   "cell_type": "code",
   "execution_count": 72,
   "metadata": {},
   "outputs": [],
   "source": [
    "from pythonds.basic import Stack"
   ]
  },
  {
   "cell_type": "code",
   "execution_count": 26,
   "metadata": {},
   "outputs": [],
   "source": [
    "def parchecker(symbolString):\n",
    "    \n",
    "    s=Stack()\n",
    "    balanced=True\n",
    "    i=0\n",
    "    \n",
    "    while i<len(symbolString) and balanced:\n",
    "        if symbolString[i] ==\"(\":\n",
    "            s.push(symbolString[i])\n",
    "        else:\n",
    "            if s.isEmpty():\n",
    "                balanced=False\n",
    "            else:\n",
    "                s.pop()\n",
    "        \n",
    "        i+=1\n",
    "        \n",
    "    if balanced and s.isEmpty():\n",
    "        return True\n",
    "    else:\n",
    "        return False\n"
   ]
  },
  {
   "cell_type": "code",
   "execution_count": 27,
   "metadata": {
    "scrolled": true
   },
   "outputs": [
    {
     "name": "stdout",
     "output_type": "stream",
     "text": [
      "True\n",
      "False\n",
      "False\n"
     ]
    }
   ],
   "source": [
    "print(parchecker('()'))\n",
    "\n",
    "print(parchecker('())'))\n",
    "\n",
    "print(parchecker('(()'))"
   ]
  },
  {
   "cell_type": "markdown",
   "metadata": {},
   "source": [
    "### 问题2（多种括号匹配）\n",
    "\n",
    "字串symbolString含有'([{ ’三种括号，写一个函数parchecker2，判断括号匹配。"
   ]
  },
  {
   "cell_type": "code",
   "execution_count": 79,
   "metadata": {},
   "outputs": [],
   "source": [
    "#和书上相比，在if-else分支结构上稍有不同，只是思路不同的原因，不算改进\n",
    "\n",
    "def parchecker2(symbolString):\n",
    "    \n",
    "    s=Stack()\n",
    "    balanced=True\n",
    "    i=0\n",
    "    \n",
    "    while i<len(symbolString) and balanced:\n",
    "        symbol=symbolString[i]\n",
    "        if symbol in \"([{\":\n",
    "            s.push(symbol)\n",
    "        else:\n",
    "            if s.isEmpty():\n",
    "                balanced=False\n",
    "            elif not matches(s.peek(),symbol):\n",
    "                    balanced=False\n",
    "            else:\n",
    "                s.pop()\n",
    "                    \n",
    "        i=i+1\n",
    "        \n",
    "    if s.isEmpty() and balanced:\n",
    "        return True\n",
    "    else:\n",
    "        return False\n",
    "\n",
    "def matches(s1,s2):\n",
    "    openers=\"([{\"\n",
    "    closers=\")]}\"\n",
    "    return openers.index(s1)==closers.index(s2)\n"
   ]
  },
  {
   "cell_type": "code",
   "execution_count": 80,
   "metadata": {
    "scrolled": false
   },
   "outputs": [
    {
     "name": "stdout",
     "output_type": "stream",
     "text": [
      "True\n",
      "True\n",
      "True\n",
      "False\n",
      "False\n",
      "False\n"
     ]
    }
   ],
   "source": [
    "print(parchecker2(\"()\"))\n",
    "\n",
    "print(parchecker2('()[]'))\n",
    "\n",
    "print(parchecker2('([{}])'))\n",
    "\n",
    "print(parchecker2('(]'))\n",
    "\n",
    "print(parchecker2('())'))\n",
    "\n",
    "print(parchecker2('(()'))\n",
    "\n",
    "#如果函数正确的话，输出为t t t f f f "
   ]
  },
  {
   "cell_type": "markdown",
   "metadata": {},
   "source": [
    "更简洁的写法，而且不用引入Stack，而是用list模拟Stack （来自LeetCode）"
   ]
  },
  {
   "cell_type": "code",
   "execution_count": 24,
   "metadata": {},
   "outputs": [],
   "source": [
    "def isValid(s:str)->bool: #可以在形参后加冒号指定传入数据类型，并用->说明函数输出数据类型\n",
    "\n",
    "    #字串长度为奇数，肯定不匹配，直接剔除        \n",
    "        if len(s)%2==1:\n",
    "            return False\n",
    "    #先在列表栈里放一个‘？’，防止栈已经空了还遇到右括号，此时pop会出错        \n",
    "        dic={'(':')','[':']','{':'}','?':'?'}\n",
    "        a=['?']\n",
    "        for i in s:\n",
    "            if i in dic:\n",
    "                a.append(i)\n",
    "            elif dic[a.pop()] != i:\n",
    "                return False\n",
    "        return len(a) == 1"
   ]
  },
  {
   "cell_type": "code",
   "execution_count": 25,
   "metadata": {},
   "outputs": [
    {
     "name": "stdout",
     "output_type": "stream",
     "text": [
      "True\n",
      "True\n",
      "True\n",
      "False\n",
      "False\n",
      "False\n"
     ]
    }
   ],
   "source": [
    "print(isValid(\"()\"))\n",
    "\n",
    "print(isValid('()[]'))\n",
    "\n",
    "print(isValid('([{}])'))\n",
    "\n",
    "print(isValid('(]'))\n",
    "\n",
    "print(isValid('())'))\n",
    "\n",
    "print(isValid('(()'))"
   ]
  },
  {
   "cell_type": "markdown",
   "metadata": {},
   "source": [
    "## 1.2 十进制转二进制"
   ]
  },
  {
   "cell_type": "markdown",
   "metadata": {},
   "source": [
    "### 问题3\n",
    "\n",
    "写一个函数将任意十进制正整数转为二进制"
   ]
  },
  {
   "cell_type": "code",
   "execution_count": 73,
   "metadata": {},
   "outputs": [],
   "source": [
    "def dectobin(decnumber):\n",
    "    s=Stack()\n",
    "    binstring=''\n",
    "    \n",
    "    while decnumber>0:\n",
    "        rem=decnumber%2\n",
    "        s.push(rem)\n",
    "        decnumber=decnumber//2\n",
    "    \n",
    "    while not s.isEmpty():\n",
    "        binstring=binstring+str(s.pop())\n",
    "    \n",
    "    return binstring"
   ]
  },
  {
   "cell_type": "code",
   "execution_count": 76,
   "metadata": {},
   "outputs": [
    {
     "data": {
      "text/plain": [
       "'11101001'"
      ]
     },
     "execution_count": 76,
     "metadata": {},
     "output_type": "execute_result"
    }
   ],
   "source": [
    "dectobin(233)"
   ]
  },
  {
   "cell_type": "markdown",
   "metadata": {},
   "source": [
    "### 问题4\n",
    "\n",
    "十进制转（16以下）任意进制"
   ]
  },
  {
   "cell_type": "code",
   "execution_count": 91,
   "metadata": {},
   "outputs": [],
   "source": [
    "#from pythonds.basic import Stack\n",
    "\n",
    "def converter(decnum,base):\n",
    "    s=Stack()\n",
    "    newstr=''\n",
    "    digits='0123456789ABCDEF'\n",
    "    \n",
    "    while decnum>0:\n",
    "        rem=decnum%base\n",
    "        s.push(rem)\n",
    "        decnum=decnum//base\n",
    "    \n",
    "    while not s.isEmpty():\n",
    "        newstr=newstr+digits[s.pop()]\n",
    "    \n",
    "    return newstr"
   ]
  },
  {
   "cell_type": "code",
   "execution_count": 98,
   "metadata": {},
   "outputs": [
    {
     "data": {
      "text/plain": [
       "'11101001'"
      ]
     },
     "execution_count": 98,
     "metadata": {},
     "output_type": "execute_result"
    }
   ],
   "source": [
    "converter(233,2)"
   ]
  },
  {
   "cell_type": "markdown",
   "metadata": {},
   "source": [
    "Ext: 试添加报错功能。当base≤1或>16时就会报错。"
   ]
  },
  {
   "cell_type": "markdown",
   "metadata": {},
   "source": [
    "## 1.3 中序表达式转后序表达式"
   ]
  },
  {
   "cell_type": "code",
   "execution_count": null,
   "metadata": {},
   "outputs": [],
   "source": []
  },
  {
   "cell_type": "code",
   "execution_count": null,
   "metadata": {},
   "outputs": [],
   "source": []
  },
  {
   "cell_type": "markdown",
   "metadata": {},
   "source": [
    "# 2. 队列（Queue）"
   ]
  },
  {
   "cell_type": "markdown",
   "metadata": {},
   "source": [
    "队列的方法见书75页\n",
    "\n",
    "下面用list实现一个队列。假设队列的尾部在列表0处。"
   ]
  },
  {
   "cell_type": "code",
   "execution_count": 100,
   "metadata": {},
   "outputs": [],
   "source": [
    "class Queue:\n",
    "    def __init__(self):\n",
    "        self.items=[]\n",
    "    \n",
    "    def enqueue(self,item):\n",
    "        self.items.insert(0,item)\n",
    "    \n",
    "    def dequeue(self):\n",
    "        self.items.pop()\n",
    "    \n",
    "    def isEmpty(self):\n",
    "        return self.items == []\n",
    "    \n",
    "    def size(self):\n",
    "        return len(self.items)\n",
    "    "
   ]
  },
  {
   "cell_type": "markdown",
   "metadata": {},
   "source": [
    "## 2.1 约瑟夫环问题（Josephus Problem）"
   ]
  },
  {
   "cell_type": "markdown",
   "metadata": {},
   "source": [
    "约瑟夫环的简单模拟——击鼓传花\n",
    "\n",
    "n人围成一圈，最初，持有“花”者在队列头部；随后，该人出列并立即插入队列尾部；入列出列k次后，位于队列头部者淘汰；如此反复；直到仅剩下一人。\n",
    "\n",
    "该模拟过程使用了相对运动的思想，也就是将“花”视为不动的（一直在队列头部），相对花运动的是人。"
   ]
  },
  {
   "cell_type": "markdown",
   "metadata": {},
   "source": [
    "### 问题5\n",
    "\n",
    "模拟约瑟夫环，并返回最后的幸存者。"
   ]
  },
  {
   "cell_type": "code",
   "execution_count": 49,
   "metadata": {},
   "outputs": [],
   "source": [
    "from pythonds.basic import Queue"
   ]
  },
  {
   "cell_type": "code",
   "execution_count": 59,
   "metadata": {},
   "outputs": [],
   "source": [
    "def josephus(namelist,k):\n",
    "    q=Queue()\n",
    "    \n",
    "    for i in namelist:\n",
    "        q.enqueue(i)\n",
    "    \n",
    "    while q.size()>1:\n",
    "        num=0\n",
    "        while num<k:\n",
    "            q.enqueue(q.dequeue())\n",
    "            num+=1\n",
    "        q.dequeue()\n",
    "    \n",
    "    return q.dequeue()\n",
    "\n",
    "#第8-9行开始，书上用的是for循环，这里是while。其实还是for循环简洁些。"
   ]
  },
  {
   "cell_type": "code",
   "execution_count": 61,
   "metadata": {},
   "outputs": [
    {
     "data": {
      "text/plain": [
       "'c'"
      ]
     },
     "execution_count": 61,
     "metadata": {},
     "output_type": "execute_result"
    }
   ],
   "source": [
    "names=['a','b','c','d','e','f']\n",
    "josephus(names,7)"
   ]
  },
  {
   "cell_type": "markdown",
   "metadata": {},
   "source": [
    "### 问题6：改进\n",
    "\n",
    "修改上面的算法使得能返回一个列表，其中按顺序排列每一轮的被剔除者，以及最后的幸存者。"
   ]
  },
  {
   "cell_type": "code",
   "execution_count": null,
   "metadata": {},
   "outputs": [],
   "source": []
  },
  {
   "cell_type": "markdown",
   "metadata": {},
   "source": [
    "# 3. 双端队列（Deque）"
   ]
  },
  {
   "cell_type": "markdown",
   "metadata": {},
   "source": [
    "双端队列的方法见书85页。下面用list来实现。假设list位置0处是队列后端。"
   ]
  },
  {
   "cell_type": "code",
   "execution_count": 102,
   "metadata": {},
   "outputs": [],
   "source": [
    "class Deque:\n",
    "    def __init__(self):\n",
    "        self.items = []\n",
    "    \n",
    "    def addFront(self,item):\n",
    "        self.items.append(item)\n",
    "        \n",
    "    def addRear(self,item):\n",
    "        self.items.insert(0,item)\n",
    "        \n",
    "    def removeFront(self,item):\n",
    "        self.items.pop()\n",
    "        \n",
    "    def removeRear(self,item):\n",
    "        self.items.pop(0)\n",
    "        \n",
    "    def isEmpty():\n",
    "        return self.items == []\n",
    "    \n",
    "    def size():\n",
    "        return len(self.items)"
   ]
  },
  {
   "cell_type": "markdown",
   "metadata": {},
   "source": [
    "## 3.1 回文检测器"
   ]
  },
  {
   "cell_type": "code",
   "execution_count": 103,
   "metadata": {},
   "outputs": [],
   "source": [
    "from pythonds.basic import Deque"
   ]
  },
  {
   "cell_type": "code",
   "execution_count": 119,
   "metadata": {},
   "outputs": [],
   "source": [
    "def palchecker(astring):\n",
    "    \n",
    "    d=Deque()\n",
    "    ispal=True\n",
    "    \n",
    "    for i in astring:\n",
    "        d.addRear(i)\n",
    "    \n",
    "    while d.size()>1 and ispal:\n",
    "        a=d.removeFront()\n",
    "        b=d.removeRear()\n",
    "        if a!=b:\n",
    "            ispal=False\n",
    "    return ispal"
   ]
  },
  {
   "cell_type": "code",
   "execution_count": 120,
   "metadata": {},
   "outputs": [
    {
     "data": {
      "text/plain": [
       "False"
      ]
     },
     "execution_count": 120,
     "metadata": {},
     "output_type": "execute_result"
    }
   ],
   "source": [
    "palchecker('rada')"
   ]
  },
  {
   "cell_type": "markdown",
   "metadata": {},
   "source": [
    "### 问题7：改进\n",
    "\n",
    "使程序能识别包含空格的回文，如“I PREFER PI”，去掉空格也是回文。"
   ]
  },
  {
   "cell_type": "code",
   "execution_count": null,
   "metadata": {},
   "outputs": [],
   "source": []
  },
  {
   "cell_type": "markdown",
   "metadata": {},
   "source": [
    "# 4. 链表"
   ]
  },
  {
   "cell_type": "markdown",
   "metadata": {},
   "source": [
    "## 4.1 节点类"
   ]
  },
  {
   "cell_type": "code",
   "execution_count": 2,
   "metadata": {},
   "outputs": [],
   "source": [
    "class Node:\n",
    "    def __init__(self,initialdata):\n",
    "        self.data = initialdata\n",
    "        self.next = None\n",
    "        \n",
    "    def getData(self):\n",
    "        return self.data\n",
    "    \n",
    "    def getNext(self):\n",
    "        return self.next\n",
    "    \n",
    "    def setData(self,newdata):\n",
    "        self.data=newdata\n",
    "    \n",
    "    def setNext(self,item):\n",
    "        self.next=item"
   ]
  },
  {
   "cell_type": "markdown",
   "metadata": {},
   "source": [
    "## 4.2 利用链表实现无序列表"
   ]
  },
  {
   "cell_type": "markdown",
   "metadata": {},
   "source": [
    "在书本的基础上自己写了append，insert，index，pop方法。未对照正确答案（也没找到），可能有错也说不定。"
   ]
  },
  {
   "cell_type": "code",
   "execution_count": 3,
   "metadata": {},
   "outputs": [],
   "source": [
    "class UnorderedList:\n",
    "    def __init__(self):\n",
    "        self.head=None\n",
    "    \n",
    "    def add(self,item):\n",
    "        tmp=Node(item)\n",
    "        tmp.setNext(self.head)\n",
    "        self.head=tmp\n",
    "    \n",
    "    def isEmpty(self):\n",
    "        return self.head == None\n",
    "    \n",
    "    def length(self):\n",
    "        current=self.head\n",
    "        count=0\n",
    "        while current!=None:\n",
    "            count+=1\n",
    "            current=current.getNext()\n",
    "        return count\n",
    "    \n",
    "    def search(self,item):\n",
    "        current=self.head\n",
    "        found=False        \n",
    "        while current!=None and not found:\n",
    "            if current.getData() == item:\n",
    "                found=True\n",
    "            else:\n",
    "                current=current.getNext()\n",
    "        return found\n",
    "    \n",
    "    def remove(self,item):\n",
    "        previous=None\n",
    "        current=self.head\n",
    "        found=False        \n",
    "        while current!=None and not found:\n",
    "            if current.getData() == item:\n",
    "                found=True\n",
    "            else:\n",
    "                previous=current\n",
    "                current=current.getNext()\n",
    "#如果被移除元素本来就不在列表中，则打印下面的话。该功能对应书103页第14题。\n",
    "#实际上，除了打印这句话以外程序还会报错。待进一步修改，使其忽略报错，只打印这句话。\n",
    "        if not found:\n",
    "            print('There\\'s no such an item in the list')\n",
    "#接下来分两种情况，一是待移除目标正好是列表的head，二是目标是head以外的节点\n",
    "        if previous==None:\n",
    "            self.head=current.getNext()\n",
    "        else:\n",
    "            previous.setNext(current.getNext())\n",
    "        \n",
    "    def insert(self,loc,item):\n",
    "        tmp=Node(item)\n",
    "        if loc==0:\n",
    "            tmp.setNext(self.head)\n",
    "            self.head=tmp\n",
    "        if loc>0:\n",
    "            i=0\n",
    "            previous=None\n",
    "            current=self.head\n",
    "            while i<loc:\n",
    "                previous=current\n",
    "                current=current.getNext()\n",
    "                i+=1\n",
    "            tmp.setNext(current)\n",
    "            previous.setNext(tmp)\n",
    "            \n",
    "    def append(self,item):\n",
    "        self.insert(self.length(),item) #似乎可以用前面定义过的方法来定义新方法\n",
    "        \n",
    "    def pop(self,loc=0): #默认pop链表尾部\n",
    "        previous=None\n",
    "        current=self.head\n",
    "        i=0\n",
    "        if not loc:\n",
    "            while current.getNext() != None:\n",
    "                previous=current\n",
    "                current=current.getNext()\n",
    "        else:\n",
    "            while i<loc:\n",
    "                previous=current\n",
    "                current=current.getNext()\n",
    "                i+=1\n",
    "        previous.setNext(current.getNext())\n",
    "        return current.getData()\n",
    "            \n",
    "    def index(self,item):\n",
    "        current=self.head\n",
    "        count=0\n",
    "        while current!=item:\n",
    "            current=current.getNext()\n",
    "            count+=1\n",
    "        return count\n"
   ]
  },
  {
   "cell_type": "code",
   "execution_count": 4,
   "metadata": {},
   "outputs": [],
   "source": [
    "mylist=UnorderedList()"
   ]
  },
  {
   "cell_type": "code",
   "execution_count": 5,
   "metadata": {},
   "outputs": [],
   "source": [
    "mylist.add(15)\n",
    "mylist.add(16)\n",
    "mylist.add(17)\n",
    "mylist.add(18)"
   ]
  },
  {
   "cell_type": "code",
   "execution_count": 6,
   "metadata": {},
   "outputs": [],
   "source": [
    "mylist.append(19)"
   ]
  },
  {
   "cell_type": "code",
   "execution_count": 7,
   "metadata": {},
   "outputs": [
    {
     "data": {
      "text/plain": [
       "5"
      ]
     },
     "execution_count": 7,
     "metadata": {},
     "output_type": "execute_result"
    }
   ],
   "source": [
    "mylist.length()"
   ]
  },
  {
   "cell_type": "code",
   "execution_count": 8,
   "metadata": {},
   "outputs": [
    {
     "data": {
      "text/plain": [
       "19"
      ]
     },
     "execution_count": 8,
     "metadata": {},
     "output_type": "execute_result"
    }
   ],
   "source": [
    "mylist.pop()"
   ]
  },
  {
   "cell_type": "code",
   "execution_count": 9,
   "metadata": {},
   "outputs": [
    {
     "data": {
      "text/plain": [
       "4"
      ]
     },
     "execution_count": 9,
     "metadata": {},
     "output_type": "execute_result"
    }
   ],
   "source": [
    "mylist.length()"
   ]
  },
  {
   "cell_type": "code",
   "execution_count": 13,
   "metadata": {},
   "outputs": [
    {
     "name": "stdout",
     "output_type": "stream",
     "text": [
      "There's no such an item in the list\n"
     ]
    },
    {
     "ename": "AttributeError",
     "evalue": "'NoneType' object has no attribute 'getNext'",
     "output_type": "error",
     "traceback": [
      "\u001b[1;31m---------------------------------------------------------------------------\u001b[0m",
      "\u001b[1;31mAttributeError\u001b[0m                            Traceback (most recent call last)",
      "\u001b[1;32m<ipython-input-13-203b364f3cda>\u001b[0m in \u001b[0;36m<module>\u001b[1;34m\u001b[0m\n\u001b[1;32m----> 1\u001b[1;33m \u001b[0mmylist\u001b[0m\u001b[1;33m.\u001b[0m\u001b[0mremove\u001b[0m\u001b[1;33m(\u001b[0m\u001b[1;36m20\u001b[0m\u001b[1;33m)\u001b[0m\u001b[1;33m\u001b[0m\u001b[1;33m\u001b[0m\u001b[0m\n\u001b[0m",
      "\u001b[1;32m<ipython-input-6-0d48394fc8dc>\u001b[0m in \u001b[0;36mremove\u001b[1;34m(self, item)\u001b[0m\n\u001b[0;32m     45\u001b[0m             \u001b[0mself\u001b[0m\u001b[1;33m.\u001b[0m\u001b[0mhead\u001b[0m\u001b[1;33m=\u001b[0m\u001b[0mcurrent\u001b[0m\u001b[1;33m.\u001b[0m\u001b[0mgetNext\u001b[0m\u001b[1;33m(\u001b[0m\u001b[1;33m)\u001b[0m\u001b[1;33m\u001b[0m\u001b[1;33m\u001b[0m\u001b[0m\n\u001b[0;32m     46\u001b[0m         \u001b[1;32melse\u001b[0m\u001b[1;33m:\u001b[0m\u001b[1;33m\u001b[0m\u001b[1;33m\u001b[0m\u001b[0m\n\u001b[1;32m---> 47\u001b[1;33m             \u001b[0mprevious\u001b[0m\u001b[1;33m.\u001b[0m\u001b[0msetNext\u001b[0m\u001b[1;33m(\u001b[0m\u001b[0mcurrent\u001b[0m\u001b[1;33m.\u001b[0m\u001b[0mgetNext\u001b[0m\u001b[1;33m(\u001b[0m\u001b[1;33m)\u001b[0m\u001b[1;33m)\u001b[0m\u001b[1;33m\u001b[0m\u001b[1;33m\u001b[0m\u001b[0m\n\u001b[0m\u001b[0;32m     48\u001b[0m \u001b[1;33m\u001b[0m\u001b[0m\n\u001b[0;32m     49\u001b[0m     \u001b[1;32mdef\u001b[0m \u001b[0minsert\u001b[0m\u001b[1;33m(\u001b[0m\u001b[0mself\u001b[0m\u001b[1;33m,\u001b[0m\u001b[0mloc\u001b[0m\u001b[1;33m,\u001b[0m\u001b[0mitem\u001b[0m\u001b[1;33m)\u001b[0m\u001b[1;33m:\u001b[0m\u001b[1;33m\u001b[0m\u001b[1;33m\u001b[0m\u001b[0m\n",
      "\u001b[1;31mAttributeError\u001b[0m: 'NoneType' object has no attribute 'getNext'"
     ]
    }
   ],
   "source": [
    "mylist.remove(20)"
   ]
  },
  {
   "cell_type": "markdown",
   "metadata": {},
   "source": [
    "### 问题8（思考）\n",
    "\n",
    "python的list能包含重复元素，这个无序表能吗？不能的话，怎么改？"
   ]
  },
  {
   "cell_type": "code",
   "execution_count": null,
   "metadata": {},
   "outputs": [],
   "source": []
  },
  {
   "cell_type": "markdown",
   "metadata": {},
   "source": [
    "### 问题9——扩展：切片索引slice\n",
    "\n",
    "实现无序表的slice方法：slice（self，start，stop），按照左开右闭的规则返回新列表\n",
    "\n",
    "书103页第19题"
   ]
  },
  {
   "cell_type": "code",
   "execution_count": null,
   "metadata": {},
   "outputs": [],
   "source": []
  },
  {
   "cell_type": "markdown",
   "metadata": {},
   "source": [
    "## 4.4 将有序列表类写成无序列表类的继承\n",
    "\n",
    "书103页第21题"
   ]
  },
  {
   "cell_type": "code",
   "execution_count": 57,
   "metadata": {},
   "outputs": [],
   "source": [
    "class OrderedList(UnorderedList):\n",
    "    def __init__(self):\n",
    "        UnorderedList.__init__(self)\n",
    "\n",
    "#私以为，父类（无序表）的remove，isEmpty，length，pop方法都是一样的，直接继承即可\n",
    "#需要改的是add，search，index\n",
    "\n",
    "    def search(self,item):\n",
    "        current=self.head\n",
    "        found=False\n",
    "        while current!=None and not found:\n",
    "            if current.getData()<item:\n",
    "                current=current.getNext()\n",
    "            else:\n",
    "                found= current.getData() == item\n",
    "        return found\n",
    "    \n",
    "    def add(self,item):\n",
    "        previous=None\n",
    "        current=self.head\n",
    "        tmp=Node(item)\n",
    "        while current!=None:\n",
    "            if current.getData()<=item:\n",
    "                previous=current\n",
    "                current=current.getNext()\n",
    "            else:\n",
    "                break\n",
    "        \n",
    "        if previous==None:\n",
    "            tmp.setNext(current)\n",
    "            self.head=tmp\n",
    "        else:\n",
    "            tmp.setNext(current)\n",
    "            previous.setNext(tmp)   \n",
    "    \n",
    "    def index(self,item):\n",
    "        current=self.head\n",
    "        i=0\n",
    "        if not self.search(item):\n",
    "            return False\n",
    "        else:\n",
    "            while current.getData()!=item:\n",
    "                current=current.getNext()\n",
    "                i+=1\n",
    "        return i\n",
    "\n",
    "#有序列表没有insert方法，因此需要重写父类的insert\n",
    "    def insert(self,loc,item):\n",
    "        print('You can\\'t insert an item into an ordered list')\n"
   ]
  },
  {
   "cell_type": "code",
   "execution_count": 58,
   "metadata": {},
   "outputs": [],
   "source": [
    "link=OrderedList()"
   ]
  },
  {
   "cell_type": "code",
   "execution_count": 59,
   "metadata": {},
   "outputs": [],
   "source": [
    "link.add(5)\n",
    "link.add(6)\n",
    "link.add(8)"
   ]
  },
  {
   "cell_type": "code",
   "execution_count": 60,
   "metadata": {},
   "outputs": [
    {
     "data": {
      "text/plain": [
       "6"
      ]
     },
     "execution_count": 60,
     "metadata": {},
     "output_type": "execute_result"
    }
   ],
   "source": [
    "link.head.getNext().getData()"
   ]
  },
  {
   "cell_type": "code",
   "execution_count": 61,
   "metadata": {},
   "outputs": [],
   "source": [
    "link.add(7)"
   ]
  },
  {
   "cell_type": "code",
   "execution_count": 62,
   "metadata": {},
   "outputs": [
    {
     "data": {
      "text/plain": [
       "7"
      ]
     },
     "execution_count": 62,
     "metadata": {},
     "output_type": "execute_result"
    }
   ],
   "source": [
    "link.head.getNext().getNext().getData()"
   ]
  },
  {
   "cell_type": "code",
   "execution_count": 63,
   "metadata": {},
   "outputs": [
    {
     "data": {
      "text/plain": [
       "True"
      ]
     },
     "execution_count": 63,
     "metadata": {},
     "output_type": "execute_result"
    }
   ],
   "source": [
    "link.search(8)"
   ]
  },
  {
   "cell_type": "code",
   "execution_count": 64,
   "metadata": {},
   "outputs": [
    {
     "data": {
      "text/plain": [
       "3"
      ]
     },
     "execution_count": 64,
     "metadata": {},
     "output_type": "execute_result"
    }
   ],
   "source": [
    "link.index(8)"
   ]
  },
  {
   "cell_type": "code",
   "execution_count": 67,
   "metadata": {},
   "outputs": [
    {
     "name": "stdout",
     "output_type": "stream",
     "text": [
      "You can't insert an item into an ordered list\n"
     ]
    }
   ],
   "source": [
    "link.insert(2,4)"
   ]
  },
  {
   "cell_type": "code",
   "execution_count": 68,
   "metadata": {
    "scrolled": true
   },
   "outputs": [
    {
     "data": {
      "text/plain": [
       "7"
      ]
     },
     "execution_count": 68,
     "metadata": {},
     "output_type": "execute_result"
    }
   ],
   "source": [
    "link.head.getNext().getNext().getData()"
   ]
  },
  {
   "cell_type": "markdown",
   "metadata": {},
   "source": [
    "## 4.5 利用双向节点实现双向链表\n",
    "\n",
    "书104页第27题"
   ]
  },
  {
   "cell_type": "code",
   "execution_count": null,
   "metadata": {},
   "outputs": [],
   "source": []
  },
  {
   "cell_type": "markdown",
   "metadata": {},
   "source": [
    "## 4.6 利用链表实现Stack"
   ]
  },
  {
   "cell_type": "code",
   "execution_count": null,
   "metadata": {},
   "outputs": [],
   "source": []
  },
  {
   "cell_type": "markdown",
   "metadata": {},
   "source": [
    "## 4.7 利用链表实现Queue"
   ]
  },
  {
   "cell_type": "code",
   "execution_count": null,
   "metadata": {},
   "outputs": [],
   "source": []
  },
  {
   "cell_type": "markdown",
   "metadata": {},
   "source": [
    "## 4.8 利用链表实现Deque"
   ]
  },
  {
   "cell_type": "code",
   "execution_count": null,
   "metadata": {},
   "outputs": [],
   "source": []
  }
 ],
 "metadata": {
  "kernelspec": {
   "display_name": "Python 3",
   "language": "python",
   "name": "python3"
  },
  "language_info": {
   "codemirror_mode": {
    "name": "ipython",
    "version": 3
   },
   "file_extension": ".py",
   "mimetype": "text/x-python",
   "name": "python",
   "nbconvert_exporter": "python",
   "pygments_lexer": "ipython3",
   "version": "3.7.6"
  }
 },
 "nbformat": 4,
 "nbformat_minor": 4
}
